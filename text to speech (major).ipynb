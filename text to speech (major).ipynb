{
 "cells": [
  {
   "cell_type": "code",
   "execution_count": 1,
   "metadata": {},
   "outputs": [],
   "source": [
    "import pandas as pd\n",
    "import numpy as np"
   ]
  },
  {
   "cell_type": "code",
   "execution_count": 2,
   "metadata": {},
   "outputs": [
    {
     "name": "stdout",
     "output_type": "stream",
     "text": [
      "Requirement already satisfied: gTTS in c:\\users\\nikita mahoviya\\anaconda3\\lib\\site-packages (2.1.0)\n",
      "Requirement already satisfied: beautifulsoup4 in c:\\users\\nikita mahoviya\\anaconda3\\lib\\site-packages (from gTTS) (4.8.0)\n",
      "Requirement already satisfied: gtts-token>=1.1.3 in c:\\users\\nikita mahoviya\\anaconda3\\lib\\site-packages (from gTTS) (1.1.3)\n",
      "Requirement already satisfied: click in c:\\users\\nikita mahoviya\\anaconda3\\lib\\site-packages (from gTTS) (7.0)\n",
      "Requirement already satisfied: six in c:\\users\\nikita mahoviya\\anaconda3\\lib\\site-packages (from gTTS) (1.12.0)\n",
      "Requirement already satisfied: requests in c:\\users\\nikita mahoviya\\anaconda3\\lib\\site-packages (from gTTS) (2.22.0)\n",
      "Requirement already satisfied: soupsieve>=1.2 in c:\\users\\nikita mahoviya\\anaconda3\\lib\\site-packages (from beautifulsoup4->gTTS) (1.9.3)\n",
      "Requirement already satisfied: chardet<3.1.0,>=3.0.2 in c:\\users\\nikita mahoviya\\anaconda3\\lib\\site-packages (from requests->gTTS) (3.0.4)\n",
      "Requirement already satisfied: idna<2.9,>=2.5 in c:\\users\\nikita mahoviya\\anaconda3\\lib\\site-packages (from requests->gTTS) (2.8)\n",
      "Requirement already satisfied: certifi>=2017.4.17 in c:\\users\\nikita mahoviya\\anaconda3\\lib\\site-packages (from requests->gTTS) (2019.9.11)\n",
      "Requirement already satisfied: urllib3!=1.25.0,!=1.25.1,<1.26,>=1.21.1 in c:\\users\\nikita mahoviya\\anaconda3\\lib\\site-packages (from requests->gTTS) (1.24.2)\n"
     ]
    }
   ],
   "source": [
    "! pip install gTTS"
   ]
  },
  {
   "cell_type": "code",
   "execution_count": 3,
   "metadata": {},
   "outputs": [],
   "source": [
    "# Import the required module for text \n",
    "# to speech conversion \n",
    "from gtts import gTTS \n",
    "\n",
    "# This module is imported so that we can \n",
    "# play the converted audio \n",
    "import os "
   ]
  },
  {
   "cell_type": "code",
   "execution_count": 4,
   "metadata": {},
   "outputs": [
    {
     "data": {
      "text/html": [
       "<div>\n",
       "<style scoped>\n",
       "    .dataframe tbody tr th:only-of-type {\n",
       "        vertical-align: middle;\n",
       "    }\n",
       "\n",
       "    .dataframe tbody tr th {\n",
       "        vertical-align: top;\n",
       "    }\n",
       "\n",
       "    .dataframe thead th {\n",
       "        text-align: right;\n",
       "    }\n",
       "</style>\n",
       "<table border=\"1\" class=\"dataframe\">\n",
       "  <thead>\n",
       "    <tr style=\"text-align: right;\">\n",
       "      <th></th>\n",
       "      <th>name</th>\n",
       "      <th>order_id</th>\n",
       "      <th>amount</th>\n",
       "      <th>delivery_status</th>\n",
       "      <th>called</th>\n",
       "    </tr>\n",
       "  </thead>\n",
       "  <tbody>\n",
       "    <tr>\n",
       "      <td>0</td>\n",
       "      <td>Nikita Mahoviya</td>\n",
       "      <td>5201</td>\n",
       "      <td>2000</td>\n",
       "      <td>failed</td>\n",
       "      <td>no</td>\n",
       "    </tr>\n",
       "  </tbody>\n",
       "</table>\n",
       "</div>"
      ],
      "text/plain": [
       "              name order_id amount delivery_status called\n",
       "0  Nikita Mahoviya     5201   2000          failed     no"
      ]
     },
     "execution_count": 4,
     "metadata": {},
     "output_type": "execute_result"
    }
   ],
   "source": [
    "df=pd.DataFrame({'name':['Nikita Mahoviya'],'order_id':['5201'],'amount':['2000'],'delivery_status':['failed'],'called':'no'})\n",
    "df"
   ]
  },
  {
   "cell_type": "code",
   "execution_count": 5,
   "metadata": {},
   "outputs": [
    {
     "name": "stdout",
     "output_type": "stream",
     "text": [
      "3\n"
     ]
    },
    {
     "data": {
      "text/html": [
       "<div>\n",
       "<style scoped>\n",
       "    .dataframe tbody tr th:only-of-type {\n",
       "        vertical-align: middle;\n",
       "    }\n",
       "\n",
       "    .dataframe tbody tr th {\n",
       "        vertical-align: top;\n",
       "    }\n",
       "\n",
       "    .dataframe thead th {\n",
       "        text-align: right;\n",
       "    }\n",
       "</style>\n",
       "<table border=\"1\" class=\"dataframe\">\n",
       "  <thead>\n",
       "    <tr style=\"text-align: right;\">\n",
       "      <th></th>\n",
       "      <th>name</th>\n",
       "      <th>order_id</th>\n",
       "      <th>amount</th>\n",
       "      <th>delivery_status</th>\n",
       "      <th>called</th>\n",
       "    </tr>\n",
       "  </thead>\n",
       "  <tbody>\n",
       "    <tr>\n",
       "      <td>0</td>\n",
       "      <td>Nikita Mahoviya</td>\n",
       "      <td>5201</td>\n",
       "      <td>2000</td>\n",
       "      <td>failed</td>\n",
       "      <td>no</td>\n",
       "    </tr>\n",
       "    <tr>\n",
       "      <td>1</td>\n",
       "      <td>Shiva Tiwari</td>\n",
       "      <td>2301</td>\n",
       "      <td>300</td>\n",
       "      <td>failed</td>\n",
       "      <td>no</td>\n",
       "    </tr>\n",
       "    <tr>\n",
       "      <td>2</td>\n",
       "      <td>Prabha Naraniya</td>\n",
       "      <td>5607</td>\n",
       "      <td>3760</td>\n",
       "      <td>accepted</td>\n",
       "      <td>no</td>\n",
       "    </tr>\n",
       "  </tbody>\n",
       "</table>\n",
       "</div>"
      ],
      "text/plain": [
       "              name order_id amount delivery_status called\n",
       "0  Nikita Mahoviya     5201   2000          failed     no\n",
       "1     Shiva Tiwari     2301    300          failed     no\n",
       "2  Prabha Naraniya     5607   3760        accepted     no"
      ]
     },
     "execution_count": 5,
     "metadata": {},
     "output_type": "execute_result"
    }
   ],
   "source": [
    "df.loc[1]=['Shiva Tiwari','2301','300','failed','no']\n",
    "df.loc[2]=['Prabha Naraniya','5607','3760','accepted','no']\n",
    "a=df.values\n",
    "r,c=a.shape\n",
    "print(r)\n",
    "df"
   ]
  },
  {
   "cell_type": "code",
   "execution_count": 8,
   "metadata": {},
   "outputs": [
    {
     "name": "stdout",
     "output_type": "stream",
     "text": [
      "Press 1 if you want again and 0 if not:1\n",
      "Press 1 if you want again and 0 if not:2\n",
      "Press 1 if you have not taken delivery:6\n"
     ]
    }
   ],
   "source": [
    "\n",
    "language = 'en'\n",
    "# The text that you want to convert to audio \n",
    "for i in range(r):\n",
    "    if((a[i][3]=='failed')or(a[i][3]=='accepted')):\n",
    "        if((a[i][4]=='no')and (a[i][3]=='failed')):\n",
    "            mytext = \"hello \"+a[i][0]+\" , we tried to deliver your order, numbered: \"+a[i][1]+\" , amount\"+a[i][2]+\",today but failed to do so\"+\"if you want your product to deliver again press 1 else 0\"\n",
    "            myobj = gTTS(text=mytext, lang=language, slow=False) \n",
    "            myobj.save(\"python.mp3\")\n",
    "            os.system(\"python.mp3\")\n",
    "            x=int(input(\"Press 1 if you want again and 0 if not:\"))\n",
    "            if(x==1):\n",
    "                a[i][3]=\"retry\"\n",
    "                a[i][4]=\"yes\"\n",
    "            else:\n",
    "                a[i][3]=\"rejected\"\n",
    "                a[i][4]=\"yes\"\n",
    "        elif(a[i][4]=='no'):\n",
    "            mytext = \"hello \"+a[i][0]+\" , we have delivered your order, numbered: \"+a[i][1]+\"amount\"+a[i][2]+\"today, if you have not accepted your order press 1\"\n",
    "            myobj = gTTS(text=mytext, lang=language, slow=False) \n",
    "            myobj.save(\"python.mp3\")\n",
    "            os.system(\"python.mp3\")\n",
    "            x=int(input(\"Press 1 if you have not taken delivery:\"))\n",
    "            if(x==1):\n",
    "                a[i][3]=\"delivered but not accepted\"\n",
    "                a[i][4]=\"yes\"\n",
    "            else:\n",
    "                a[i][4]=\"yes\"\n",
    "\n",
    "\n",
    "# Passing the text and language to the engine, \n",
    "# here we have marked slow=False. Which tells \n",
    "# the module that the converted audio should \n",
    "# have a high speed \n",
    "#myobj = gTTS(text=mytext, lang=language, slow=False) \n",
    "\n",
    "# Saving the converted audio in a mp3 file named \n",
    "# welcome \n",
    "#myobj.save(\"python.mp3\") \n",
    "\n",
    "# Playing the converted file \n",
    "#os.system(\"mpg321 welcome.mp3\") "
   ]
  },
  {
   "cell_type": "code",
   "execution_count": 7,
   "metadata": {},
   "outputs": [
    {
     "data": {
      "text/html": [
       "<div>\n",
       "<style scoped>\n",
       "    .dataframe tbody tr th:only-of-type {\n",
       "        vertical-align: middle;\n",
       "    }\n",
       "\n",
       "    .dataframe tbody tr th {\n",
       "        vertical-align: top;\n",
       "    }\n",
       "\n",
       "    .dataframe thead th {\n",
       "        text-align: right;\n",
       "    }\n",
       "</style>\n",
       "<table border=\"1\" class=\"dataframe\">\n",
       "  <thead>\n",
       "    <tr style=\"text-align: right;\">\n",
       "      <th></th>\n",
       "      <th>name</th>\n",
       "      <th>order_id</th>\n",
       "      <th>amount</th>\n",
       "      <th>delivery_status</th>\n",
       "      <th>called</th>\n",
       "    </tr>\n",
       "  </thead>\n",
       "  <tbody>\n",
       "    <tr>\n",
       "      <td>0</td>\n",
       "      <td>Nikita Mahoviya</td>\n",
       "      <td>5201</td>\n",
       "      <td>2000</td>\n",
       "      <td>failed</td>\n",
       "      <td>no</td>\n",
       "    </tr>\n",
       "    <tr>\n",
       "      <td>1</td>\n",
       "      <td>Shiva Tiwari</td>\n",
       "      <td>2301</td>\n",
       "      <td>300</td>\n",
       "      <td>failed</td>\n",
       "      <td>no</td>\n",
       "    </tr>\n",
       "    <tr>\n",
       "      <td>2</td>\n",
       "      <td>Prabha Naraniya</td>\n",
       "      <td>5607</td>\n",
       "      <td>3760</td>\n",
       "      <td>accepted</td>\n",
       "      <td>no</td>\n",
       "    </tr>\n",
       "  </tbody>\n",
       "</table>\n",
       "</div>"
      ],
      "text/plain": [
       "              name order_id amount delivery_status called\n",
       "0  Nikita Mahoviya     5201   2000          failed     no\n",
       "1     Shiva Tiwari     2301    300          failed     no\n",
       "2  Prabha Naraniya     5607   3760        accepted     no"
      ]
     },
     "execution_count": 7,
     "metadata": {},
     "output_type": "execute_result"
    }
   ],
   "source": [
    "df"
   ]
  },
  {
   "cell_type": "code",
   "execution_count": null,
   "metadata": {},
   "outputs": [],
   "source": []
  }
 ],
 "metadata": {
  "kernelspec": {
   "display_name": "Python 3",
   "language": "python",
   "name": "python3"
  },
  "language_info": {
   "codemirror_mode": {
    "name": "ipython",
    "version": 3
   },
   "file_extension": ".py",
   "mimetype": "text/x-python",
   "name": "python",
   "nbconvert_exporter": "python",
   "pygments_lexer": "ipython3",
   "version": "3.7.4"
  }
 },
 "nbformat": 4,
 "nbformat_minor": 2
}
